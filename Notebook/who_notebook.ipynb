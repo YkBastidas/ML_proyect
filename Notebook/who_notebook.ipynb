{
  "cells": [
    {
      "cell_type": "markdown",
      "metadata": {
        "id": "view-in-github",
        "colab_type": "text"
      },
      "source": [
        "<a href=\"https://colab.research.google.com/github/YkBastidas/ML_proyect/blob/main/Notebook/who_notebook.ipynb\" target=\"_parent\"><img src=\"https://colab.research.google.com/assets/colab-badge.svg\" alt=\"Open In Colab\"/></a>"
      ]
    },
    {
      "cell_type": "markdown",
      "metadata": {
        "id": "PEU3_fZWSNcL"
      },
      "source": [
        "# Setup"
      ]
    },
    {
      "cell_type": "code",
      "execution_count": 74,
      "metadata": {
        "id": "1OuhsKC6SNcO"
      },
      "outputs": [],
      "source": [
        "import pandas as pd\n",
        "import matplotlib.pyplot as plt\n",
        "import seaborn as sns\n"
      ]
    },
    {
      "cell_type": "code",
      "execution_count": 75,
      "metadata": {
        "id": "5LRAaBNLSNcP"
      },
      "outputs": [],
      "source": [
        "data = pd.read_csv('./who.csv')"
      ]
    },
    {
      "cell_type": "code",
      "execution_count": 76,
      "metadata": {
        "colab": {
          "base_uri": "https://localhost:8080/",
          "height": 206
        },
        "id": "67BMpJkZSNcQ",
        "outputId": "bc0b5d3e-63ea-43d8-e58c-1a88f889e995"
      },
      "outputs": [
        {
          "output_type": "execute_result",
          "data": {
            "text/plain": [
              "      id  gender   age  hypertension  heart_disease ever_married  \\\n",
              "0   9046    Male  67.0             0              1          Yes   \n",
              "1  51676  Female  61.0             0              0          Yes   \n",
              "2  31112    Male  80.0             0              1          Yes   \n",
              "3  60182  Female  49.0             0              0          Yes   \n",
              "4   1665  Female  79.0             1              0          Yes   \n",
              "\n",
              "       work_type Residence_type  avg_glucose_level   bmi   smoking_status  \\\n",
              "0        Private          Urban             228.69  36.6  formerly smoked   \n",
              "1  Self-employed          Rural             202.21   NaN     never smoked   \n",
              "2        Private          Rural             105.92  32.5     never smoked   \n",
              "3        Private          Urban             171.23  34.4           smokes   \n",
              "4  Self-employed          Rural             174.12  24.0     never smoked   \n",
              "\n",
              "   stroke  \n",
              "0       1  \n",
              "1       1  \n",
              "2       1  \n",
              "3       1  \n",
              "4       1  "
            ],
            "text/html": [
              "\n",
              "  <div id=\"df-a187e9d5-597c-47fc-8540-16b3203ce633\">\n",
              "    <div class=\"colab-df-container\">\n",
              "      <div>\n",
              "<style scoped>\n",
              "    .dataframe tbody tr th:only-of-type {\n",
              "        vertical-align: middle;\n",
              "    }\n",
              "\n",
              "    .dataframe tbody tr th {\n",
              "        vertical-align: top;\n",
              "    }\n",
              "\n",
              "    .dataframe thead th {\n",
              "        text-align: right;\n",
              "    }\n",
              "</style>\n",
              "<table border=\"1\" class=\"dataframe\">\n",
              "  <thead>\n",
              "    <tr style=\"text-align: right;\">\n",
              "      <th></th>\n",
              "      <th>id</th>\n",
              "      <th>gender</th>\n",
              "      <th>age</th>\n",
              "      <th>hypertension</th>\n",
              "      <th>heart_disease</th>\n",
              "      <th>ever_married</th>\n",
              "      <th>work_type</th>\n",
              "      <th>Residence_type</th>\n",
              "      <th>avg_glucose_level</th>\n",
              "      <th>bmi</th>\n",
              "      <th>smoking_status</th>\n",
              "      <th>stroke</th>\n",
              "    </tr>\n",
              "  </thead>\n",
              "  <tbody>\n",
              "    <tr>\n",
              "      <th>0</th>\n",
              "      <td>9046</td>\n",
              "      <td>Male</td>\n",
              "      <td>67.0</td>\n",
              "      <td>0</td>\n",
              "      <td>1</td>\n",
              "      <td>Yes</td>\n",
              "      <td>Private</td>\n",
              "      <td>Urban</td>\n",
              "      <td>228.69</td>\n",
              "      <td>36.6</td>\n",
              "      <td>formerly smoked</td>\n",
              "      <td>1</td>\n",
              "    </tr>\n",
              "    <tr>\n",
              "      <th>1</th>\n",
              "      <td>51676</td>\n",
              "      <td>Female</td>\n",
              "      <td>61.0</td>\n",
              "      <td>0</td>\n",
              "      <td>0</td>\n",
              "      <td>Yes</td>\n",
              "      <td>Self-employed</td>\n",
              "      <td>Rural</td>\n",
              "      <td>202.21</td>\n",
              "      <td>NaN</td>\n",
              "      <td>never smoked</td>\n",
              "      <td>1</td>\n",
              "    </tr>\n",
              "    <tr>\n",
              "      <th>2</th>\n",
              "      <td>31112</td>\n",
              "      <td>Male</td>\n",
              "      <td>80.0</td>\n",
              "      <td>0</td>\n",
              "      <td>1</td>\n",
              "      <td>Yes</td>\n",
              "      <td>Private</td>\n",
              "      <td>Rural</td>\n",
              "      <td>105.92</td>\n",
              "      <td>32.5</td>\n",
              "      <td>never smoked</td>\n",
              "      <td>1</td>\n",
              "    </tr>\n",
              "    <tr>\n",
              "      <th>3</th>\n",
              "      <td>60182</td>\n",
              "      <td>Female</td>\n",
              "      <td>49.0</td>\n",
              "      <td>0</td>\n",
              "      <td>0</td>\n",
              "      <td>Yes</td>\n",
              "      <td>Private</td>\n",
              "      <td>Urban</td>\n",
              "      <td>171.23</td>\n",
              "      <td>34.4</td>\n",
              "      <td>smokes</td>\n",
              "      <td>1</td>\n",
              "    </tr>\n",
              "    <tr>\n",
              "      <th>4</th>\n",
              "      <td>1665</td>\n",
              "      <td>Female</td>\n",
              "      <td>79.0</td>\n",
              "      <td>1</td>\n",
              "      <td>0</td>\n",
              "      <td>Yes</td>\n",
              "      <td>Self-employed</td>\n",
              "      <td>Rural</td>\n",
              "      <td>174.12</td>\n",
              "      <td>24.0</td>\n",
              "      <td>never smoked</td>\n",
              "      <td>1</td>\n",
              "    </tr>\n",
              "  </tbody>\n",
              "</table>\n",
              "</div>\n",
              "      <button class=\"colab-df-convert\" onclick=\"convertToInteractive('df-a187e9d5-597c-47fc-8540-16b3203ce633')\"\n",
              "              title=\"Convert this dataframe to an interactive table.\"\n",
              "              style=\"display:none;\">\n",
              "        \n",
              "  <svg xmlns=\"http://www.w3.org/2000/svg\" height=\"24px\"viewBox=\"0 0 24 24\"\n",
              "       width=\"24px\">\n",
              "    <path d=\"M0 0h24v24H0V0z\" fill=\"none\"/>\n",
              "    <path d=\"M18.56 5.44l.94 2.06.94-2.06 2.06-.94-2.06-.94-.94-2.06-.94 2.06-2.06.94zm-11 1L8.5 8.5l.94-2.06 2.06-.94-2.06-.94L8.5 2.5l-.94 2.06-2.06.94zm10 10l.94 2.06.94-2.06 2.06-.94-2.06-.94-.94-2.06-.94 2.06-2.06.94z\"/><path d=\"M17.41 7.96l-1.37-1.37c-.4-.4-.92-.59-1.43-.59-.52 0-1.04.2-1.43.59L10.3 9.45l-7.72 7.72c-.78.78-.78 2.05 0 2.83L4 21.41c.39.39.9.59 1.41.59.51 0 1.02-.2 1.41-.59l7.78-7.78 2.81-2.81c.8-.78.8-2.07 0-2.86zM5.41 20L4 18.59l7.72-7.72 1.47 1.35L5.41 20z\"/>\n",
              "  </svg>\n",
              "      </button>\n",
              "      \n",
              "  <style>\n",
              "    .colab-df-container {\n",
              "      display:flex;\n",
              "      flex-wrap:wrap;\n",
              "      gap: 12px;\n",
              "    }\n",
              "\n",
              "    .colab-df-convert {\n",
              "      background-color: #E8F0FE;\n",
              "      border: none;\n",
              "      border-radius: 50%;\n",
              "      cursor: pointer;\n",
              "      display: none;\n",
              "      fill: #1967D2;\n",
              "      height: 32px;\n",
              "      padding: 0 0 0 0;\n",
              "      width: 32px;\n",
              "    }\n",
              "\n",
              "    .colab-df-convert:hover {\n",
              "      background-color: #E2EBFA;\n",
              "      box-shadow: 0px 1px 2px rgba(60, 64, 67, 0.3), 0px 1px 3px 1px rgba(60, 64, 67, 0.15);\n",
              "      fill: #174EA6;\n",
              "    }\n",
              "\n",
              "    [theme=dark] .colab-df-convert {\n",
              "      background-color: #3B4455;\n",
              "      fill: #D2E3FC;\n",
              "    }\n",
              "\n",
              "    [theme=dark] .colab-df-convert:hover {\n",
              "      background-color: #434B5C;\n",
              "      box-shadow: 0px 1px 3px 1px rgba(0, 0, 0, 0.15);\n",
              "      filter: drop-shadow(0px 1px 2px rgba(0, 0, 0, 0.3));\n",
              "      fill: #FFFFFF;\n",
              "    }\n",
              "  </style>\n",
              "\n",
              "      <script>\n",
              "        const buttonEl =\n",
              "          document.querySelector('#df-a187e9d5-597c-47fc-8540-16b3203ce633 button.colab-df-convert');\n",
              "        buttonEl.style.display =\n",
              "          google.colab.kernel.accessAllowed ? 'block' : 'none';\n",
              "\n",
              "        async function convertToInteractive(key) {\n",
              "          const element = document.querySelector('#df-a187e9d5-597c-47fc-8540-16b3203ce633');\n",
              "          const dataTable =\n",
              "            await google.colab.kernel.invokeFunction('convertToInteractive',\n",
              "                                                     [key], {});\n",
              "          if (!dataTable) return;\n",
              "\n",
              "          const docLinkHtml = 'Like what you see? Visit the ' +\n",
              "            '<a target=\"_blank\" href=https://colab.research.google.com/notebooks/data_table.ipynb>data table notebook</a>'\n",
              "            + ' to learn more about interactive tables.';\n",
              "          element.innerHTML = '';\n",
              "          dataTable['output_type'] = 'display_data';\n",
              "          await google.colab.output.renderOutput(dataTable, element);\n",
              "          const docLink = document.createElement('div');\n",
              "          docLink.innerHTML = docLinkHtml;\n",
              "          element.appendChild(docLink);\n",
              "        }\n",
              "      </script>\n",
              "    </div>\n",
              "  </div>\n",
              "  "
            ]
          },
          "metadata": {},
          "execution_count": 76
        }
      ],
      "source": [
        "data.head()"
      ]
    },
    {
      "cell_type": "markdown",
      "metadata": {
        "id": "iHZLzImfSNcQ"
      },
      "source": [
        "# Data exploration"
      ]
    },
    {
      "cell_type": "code",
      "execution_count": 77,
      "metadata": {
        "colab": {
          "base_uri": "https://localhost:8080/"
        },
        "id": "ETs3DISjSNcR",
        "outputId": "63579984-34ed-4e3a-fe7d-632be3735a44"
      },
      "outputs": [
        {
          "output_type": "execute_result",
          "data": {
            "text/plain": [
              "array(['formerly smoked', 'never smoked', 'smokes', 'Unknown'],\n",
              "      dtype=object)"
            ]
          },
          "metadata": {},
          "execution_count": 77
        }
      ],
      "source": [
        "data.smoking_status.unique()"
      ]
    },
    {
      "cell_type": "code",
      "execution_count": 78,
      "metadata": {
        "colab": {
          "base_uri": "https://localhost:8080/"
        },
        "id": "h3xns0J_SNcR",
        "outputId": "81875950-a2b4-4240-b3a9-b764fcc73b75"
      },
      "outputs": [
        {
          "output_type": "execute_result",
          "data": {
            "text/plain": [
              "array(['Male', 'Female', 'Other'], dtype=object)"
            ]
          },
          "metadata": {},
          "execution_count": 78
        }
      ],
      "source": [
        "data.gender.unique()"
      ]
    },
    {
      "cell_type": "code",
      "execution_count": 79,
      "metadata": {
        "colab": {
          "base_uri": "https://localhost:8080/"
        },
        "id": "9WtSVEavSNcS",
        "outputId": "f5c3a9d7-c8ee-4b40-ebaf-50761f9d383d"
      },
      "outputs": [
        {
          "output_type": "execute_result",
          "data": {
            "text/plain": [
              "array(['Yes', 'No'], dtype=object)"
            ]
          },
          "metadata": {},
          "execution_count": 79
        }
      ],
      "source": [
        "data.ever_married.unique()"
      ]
    },
    {
      "cell_type": "code",
      "execution_count": 80,
      "metadata": {
        "colab": {
          "base_uri": "https://localhost:8080/"
        },
        "id": "eaqKfVNHSNcT",
        "outputId": "29f8d6b7-6286-4e36-947e-e288f27f3a3c"
      },
      "outputs": [
        {
          "output_type": "execute_result",
          "data": {
            "text/plain": [
              "array(['Private', 'Self-employed', 'Govt_job', 'children', 'Never_worked'],\n",
              "      dtype=object)"
            ]
          },
          "metadata": {},
          "execution_count": 80
        }
      ],
      "source": [
        "data.work_type.unique()"
      ]
    },
    {
      "cell_type": "code",
      "execution_count": 81,
      "metadata": {
        "colab": {
          "base_uri": "https://localhost:8080/"
        },
        "id": "ou0qcfwjSNcT",
        "outputId": "d50ab1c0-bde4-455e-d3fb-355448a66f2a"
      },
      "outputs": [
        {
          "output_type": "execute_result",
          "data": {
            "text/plain": [
              "array(['Urban', 'Rural'], dtype=object)"
            ]
          },
          "metadata": {},
          "execution_count": 81
        }
      ],
      "source": [
        "data.Residence_type.unique()"
      ]
    },
    {
      "cell_type": "code",
      "execution_count": 82,
      "metadata": {
        "colab": {
          "base_uri": "https://localhost:8080/"
        },
        "id": "yWpKI1ZpSNcU",
        "outputId": "22833767-f302-4859-e66a-cca776f4bdbe"
      },
      "outputs": [
        {
          "output_type": "execute_result",
          "data": {
            "text/plain": [
              "id                     0\n",
              "gender                 0\n",
              "age                    0\n",
              "hypertension           0\n",
              "heart_disease          0\n",
              "ever_married           0\n",
              "work_type              0\n",
              "Residence_type         0\n",
              "avg_glucose_level      0\n",
              "bmi                  201\n",
              "smoking_status         0\n",
              "stroke                 0\n",
              "dtype: int64"
            ]
          },
          "metadata": {},
          "execution_count": 82
        }
      ],
      "source": [
        "data.isnull().sum()"
      ]
    },
    {
      "cell_type": "markdown",
      "metadata": {
        "id": "L5_HgvL_SNcU"
      },
      "source": [
        "# Clean data"
      ]
    },
    {
      "cell_type": "code",
      "execution_count": 83,
      "metadata": {
        "id": "Ax5blaUOSNcU"
      },
      "outputs": [],
      "source": [
        "other_index = ((data.loc[(data.gender== 'Other')]).index)[0]\n",
        "data = data.drop(other_index)"
      ]
    },
    {
      "cell_type": "code",
      "execution_count": 84,
      "metadata": {
        "id": "EnOR-OkGSNcV"
      },
      "outputs": [],
      "source": [
        "from sklearn.preprocessing import OrdinalEncoder\n",
        "\n",
        "ordinal_encoder_1 = OrdinalEncoder()\n",
        "OE_cols = ['gender', 'ever_married', 'Residence_type']\n",
        "data[OE_cols] = ordinal_encoder_1.fit_transform(data[OE_cols])\n",
        "\n",
        "smoke_list = ['never smoked', 'Unknown', 'formerly smoked', 'smokes']\n",
        "ordinal_encoder_2 = OrdinalEncoder(categories=[smoke_list])\n",
        "data[['smoking_status']] = ordinal_encoder_2.fit_transform(data[['smoking_status']])"
      ]
    },
    {
      "cell_type": "code",
      "execution_count": 85,
      "metadata": {
        "id": "FWxeWaENSNcV"
      },
      "outputs": [],
      "source": [
        "from sklearn.preprocessing import OneHotEncoder\n",
        "\n",
        "OH_encoder = OneHotEncoder(handle_unknown='ignore', sparse=False)\n",
        "OH_cols_data = pd.DataFrame(OH_encoder.fit_transform(data[['work_type']]))\n",
        "OH_cols_data.index = data.index\n",
        "OH_cols_data.columns = OH_encoder.get_feature_names_out(['work_type'])\n",
        "num_data = data.drop(['work_type'], axis=1)\n",
        "data = pd.concat([num_data, OH_cols_data], axis=1)"
      ]
    },
    {
      "cell_type": "code",
      "execution_count": 86,
      "metadata": {
        "id": "CptgdGsNSNcV"
      },
      "outputs": [],
      "source": [
        "from sklearn.impute import SimpleImputer\n",
        "\n",
        "nan_imputer = SimpleImputer(strategy='median')\n",
        "imputed_data = pd.DataFrame(nan_imputer.fit_transform(data))\n",
        "imputed_data.columns = data.columns\n",
        "data = imputed_data"
      ]
    },
    {
      "cell_type": "code",
      "execution_count": 87,
      "metadata": {
        "id": "g47cJ6q6SNcW",
        "outputId": "a8de2019-b672-456b-c630-fa158ba40fbe",
        "colab": {
          "base_uri": "https://localhost:8080/",
          "height": 287
        }
      },
      "outputs": [
        {
          "output_type": "execute_result",
          "data": {
            "text/plain": [
              "        id  gender   age  hypertension  heart_disease  ever_married  \\\n",
              "0   9046.0     1.0  67.0           0.0            1.0           1.0   \n",
              "1  51676.0     0.0  61.0           0.0            0.0           1.0   \n",
              "2  31112.0     1.0  80.0           0.0            1.0           1.0   \n",
              "3  60182.0     0.0  49.0           0.0            0.0           1.0   \n",
              "4   1665.0     0.0  79.0           1.0            0.0           1.0   \n",
              "\n",
              "   Residence_type  avg_glucose_level   bmi  smoking_status  stroke  \\\n",
              "0             1.0             228.69  36.6             2.0     1.0   \n",
              "1             0.0             202.21  28.1             0.0     1.0   \n",
              "2             0.0             105.92  32.5             0.0     1.0   \n",
              "3             1.0             171.23  34.4             3.0     1.0   \n",
              "4             0.0             174.12  24.0             0.0     1.0   \n",
              "\n",
              "   work_type_Govt_job  work_type_Never_worked  work_type_Private  \\\n",
              "0                 0.0                     0.0                1.0   \n",
              "1                 0.0                     0.0                0.0   \n",
              "2                 0.0                     0.0                1.0   \n",
              "3                 0.0                     0.0                1.0   \n",
              "4                 0.0                     0.0                0.0   \n",
              "\n",
              "   work_type_Self-employed  work_type_children  \n",
              "0                      0.0                 0.0  \n",
              "1                      1.0                 0.0  \n",
              "2                      0.0                 0.0  \n",
              "3                      0.0                 0.0  \n",
              "4                      1.0                 0.0  "
            ],
            "text/html": [
              "\n",
              "  <div id=\"df-21ce49ec-d202-400b-ba9f-d44a5b471f0a\">\n",
              "    <div class=\"colab-df-container\">\n",
              "      <div>\n",
              "<style scoped>\n",
              "    .dataframe tbody tr th:only-of-type {\n",
              "        vertical-align: middle;\n",
              "    }\n",
              "\n",
              "    .dataframe tbody tr th {\n",
              "        vertical-align: top;\n",
              "    }\n",
              "\n",
              "    .dataframe thead th {\n",
              "        text-align: right;\n",
              "    }\n",
              "</style>\n",
              "<table border=\"1\" class=\"dataframe\">\n",
              "  <thead>\n",
              "    <tr style=\"text-align: right;\">\n",
              "      <th></th>\n",
              "      <th>id</th>\n",
              "      <th>gender</th>\n",
              "      <th>age</th>\n",
              "      <th>hypertension</th>\n",
              "      <th>heart_disease</th>\n",
              "      <th>ever_married</th>\n",
              "      <th>Residence_type</th>\n",
              "      <th>avg_glucose_level</th>\n",
              "      <th>bmi</th>\n",
              "      <th>smoking_status</th>\n",
              "      <th>stroke</th>\n",
              "      <th>work_type_Govt_job</th>\n",
              "      <th>work_type_Never_worked</th>\n",
              "      <th>work_type_Private</th>\n",
              "      <th>work_type_Self-employed</th>\n",
              "      <th>work_type_children</th>\n",
              "    </tr>\n",
              "  </thead>\n",
              "  <tbody>\n",
              "    <tr>\n",
              "      <th>0</th>\n",
              "      <td>9046.0</td>\n",
              "      <td>1.0</td>\n",
              "      <td>67.0</td>\n",
              "      <td>0.0</td>\n",
              "      <td>1.0</td>\n",
              "      <td>1.0</td>\n",
              "      <td>1.0</td>\n",
              "      <td>228.69</td>\n",
              "      <td>36.6</td>\n",
              "      <td>2.0</td>\n",
              "      <td>1.0</td>\n",
              "      <td>0.0</td>\n",
              "      <td>0.0</td>\n",
              "      <td>1.0</td>\n",
              "      <td>0.0</td>\n",
              "      <td>0.0</td>\n",
              "    </tr>\n",
              "    <tr>\n",
              "      <th>1</th>\n",
              "      <td>51676.0</td>\n",
              "      <td>0.0</td>\n",
              "      <td>61.0</td>\n",
              "      <td>0.0</td>\n",
              "      <td>0.0</td>\n",
              "      <td>1.0</td>\n",
              "      <td>0.0</td>\n",
              "      <td>202.21</td>\n",
              "      <td>28.1</td>\n",
              "      <td>0.0</td>\n",
              "      <td>1.0</td>\n",
              "      <td>0.0</td>\n",
              "      <td>0.0</td>\n",
              "      <td>0.0</td>\n",
              "      <td>1.0</td>\n",
              "      <td>0.0</td>\n",
              "    </tr>\n",
              "    <tr>\n",
              "      <th>2</th>\n",
              "      <td>31112.0</td>\n",
              "      <td>1.0</td>\n",
              "      <td>80.0</td>\n",
              "      <td>0.0</td>\n",
              "      <td>1.0</td>\n",
              "      <td>1.0</td>\n",
              "      <td>0.0</td>\n",
              "      <td>105.92</td>\n",
              "      <td>32.5</td>\n",
              "      <td>0.0</td>\n",
              "      <td>1.0</td>\n",
              "      <td>0.0</td>\n",
              "      <td>0.0</td>\n",
              "      <td>1.0</td>\n",
              "      <td>0.0</td>\n",
              "      <td>0.0</td>\n",
              "    </tr>\n",
              "    <tr>\n",
              "      <th>3</th>\n",
              "      <td>60182.0</td>\n",
              "      <td>0.0</td>\n",
              "      <td>49.0</td>\n",
              "      <td>0.0</td>\n",
              "      <td>0.0</td>\n",
              "      <td>1.0</td>\n",
              "      <td>1.0</td>\n",
              "      <td>171.23</td>\n",
              "      <td>34.4</td>\n",
              "      <td>3.0</td>\n",
              "      <td>1.0</td>\n",
              "      <td>0.0</td>\n",
              "      <td>0.0</td>\n",
              "      <td>1.0</td>\n",
              "      <td>0.0</td>\n",
              "      <td>0.0</td>\n",
              "    </tr>\n",
              "    <tr>\n",
              "      <th>4</th>\n",
              "      <td>1665.0</td>\n",
              "      <td>0.0</td>\n",
              "      <td>79.0</td>\n",
              "      <td>1.0</td>\n",
              "      <td>0.0</td>\n",
              "      <td>1.0</td>\n",
              "      <td>0.0</td>\n",
              "      <td>174.12</td>\n",
              "      <td>24.0</td>\n",
              "      <td>0.0</td>\n",
              "      <td>1.0</td>\n",
              "      <td>0.0</td>\n",
              "      <td>0.0</td>\n",
              "      <td>0.0</td>\n",
              "      <td>1.0</td>\n",
              "      <td>0.0</td>\n",
              "    </tr>\n",
              "  </tbody>\n",
              "</table>\n",
              "</div>\n",
              "      <button class=\"colab-df-convert\" onclick=\"convertToInteractive('df-21ce49ec-d202-400b-ba9f-d44a5b471f0a')\"\n",
              "              title=\"Convert this dataframe to an interactive table.\"\n",
              "              style=\"display:none;\">\n",
              "        \n",
              "  <svg xmlns=\"http://www.w3.org/2000/svg\" height=\"24px\"viewBox=\"0 0 24 24\"\n",
              "       width=\"24px\">\n",
              "    <path d=\"M0 0h24v24H0V0z\" fill=\"none\"/>\n",
              "    <path d=\"M18.56 5.44l.94 2.06.94-2.06 2.06-.94-2.06-.94-.94-2.06-.94 2.06-2.06.94zm-11 1L8.5 8.5l.94-2.06 2.06-.94-2.06-.94L8.5 2.5l-.94 2.06-2.06.94zm10 10l.94 2.06.94-2.06 2.06-.94-2.06-.94-.94-2.06-.94 2.06-2.06.94z\"/><path d=\"M17.41 7.96l-1.37-1.37c-.4-.4-.92-.59-1.43-.59-.52 0-1.04.2-1.43.59L10.3 9.45l-7.72 7.72c-.78.78-.78 2.05 0 2.83L4 21.41c.39.39.9.59 1.41.59.51 0 1.02-.2 1.41-.59l7.78-7.78 2.81-2.81c.8-.78.8-2.07 0-2.86zM5.41 20L4 18.59l7.72-7.72 1.47 1.35L5.41 20z\"/>\n",
              "  </svg>\n",
              "      </button>\n",
              "      \n",
              "  <style>\n",
              "    .colab-df-container {\n",
              "      display:flex;\n",
              "      flex-wrap:wrap;\n",
              "      gap: 12px;\n",
              "    }\n",
              "\n",
              "    .colab-df-convert {\n",
              "      background-color: #E8F0FE;\n",
              "      border: none;\n",
              "      border-radius: 50%;\n",
              "      cursor: pointer;\n",
              "      display: none;\n",
              "      fill: #1967D2;\n",
              "      height: 32px;\n",
              "      padding: 0 0 0 0;\n",
              "      width: 32px;\n",
              "    }\n",
              "\n",
              "    .colab-df-convert:hover {\n",
              "      background-color: #E2EBFA;\n",
              "      box-shadow: 0px 1px 2px rgba(60, 64, 67, 0.3), 0px 1px 3px 1px rgba(60, 64, 67, 0.15);\n",
              "      fill: #174EA6;\n",
              "    }\n",
              "\n",
              "    [theme=dark] .colab-df-convert {\n",
              "      background-color: #3B4455;\n",
              "      fill: #D2E3FC;\n",
              "    }\n",
              "\n",
              "    [theme=dark] .colab-df-convert:hover {\n",
              "      background-color: #434B5C;\n",
              "      box-shadow: 0px 1px 3px 1px rgba(0, 0, 0, 0.15);\n",
              "      filter: drop-shadow(0px 1px 2px rgba(0, 0, 0, 0.3));\n",
              "      fill: #FFFFFF;\n",
              "    }\n",
              "  </style>\n",
              "\n",
              "      <script>\n",
              "        const buttonEl =\n",
              "          document.querySelector('#df-21ce49ec-d202-400b-ba9f-d44a5b471f0a button.colab-df-convert');\n",
              "        buttonEl.style.display =\n",
              "          google.colab.kernel.accessAllowed ? 'block' : 'none';\n",
              "\n",
              "        async function convertToInteractive(key) {\n",
              "          const element = document.querySelector('#df-21ce49ec-d202-400b-ba9f-d44a5b471f0a');\n",
              "          const dataTable =\n",
              "            await google.colab.kernel.invokeFunction('convertToInteractive',\n",
              "                                                     [key], {});\n",
              "          if (!dataTable) return;\n",
              "\n",
              "          const docLinkHtml = 'Like what you see? Visit the ' +\n",
              "            '<a target=\"_blank\" href=https://colab.research.google.com/notebooks/data_table.ipynb>data table notebook</a>'\n",
              "            + ' to learn more about interactive tables.';\n",
              "          element.innerHTML = '';\n",
              "          dataTable['output_type'] = 'display_data';\n",
              "          await google.colab.output.renderOutput(dataTable, element);\n",
              "          const docLink = document.createElement('div');\n",
              "          docLink.innerHTML = docLinkHtml;\n",
              "          element.appendChild(docLink);\n",
              "        }\n",
              "      </script>\n",
              "    </div>\n",
              "  </div>\n",
              "  "
            ]
          },
          "metadata": {},
          "execution_count": 87
        }
      ],
      "source": [
        "data.head()"
      ]
    },
    {
      "cell_type": "markdown",
      "metadata": {
        "id": "T5YWl8DmSNcW"
      },
      "source": [
        "# Add more columns of information"
      ]
    },
    {
      "cell_type": "code",
      "execution_count": 88,
      "metadata": {
        "id": "gNLYpLmhSNcW"
      },
      "outputs": [],
      "source": [
        "def calc_overweight(bmi):\n",
        "    overweight = []\n",
        "    for b in bmi:\n",
        "        if b > 30:\n",
        "            overweight.append(1)\n",
        "        else:\n",
        "            overweight.append(0)\n",
        "    return pd.DataFrame({'overweight': overweight})\n",
        "\n",
        "data = pd.concat([data, calc_overweight(data.bmi)], axis=1)"
      ]
    },
    {
      "cell_type": "code",
      "execution_count": 89,
      "metadata": {
        "id": "PaMAjiZTSNcW"
      },
      "outputs": [],
      "source": [
        "def age_stroke(ages):\n",
        "    age_stroke_match = []\n",
        "    for age in ages:\n",
        "        if age >= 60:\n",
        "            age_stroke_match.append(1)\n",
        "        else:\n",
        "            age_stroke_match.append(0)\n",
        "    return pd.DataFrame({'age_stroke': age_stroke_match})\n",
        "\n",
        "data = pd.concat([data, age_stroke(data.age)], axis=1)"
      ]
    },
    {
      "cell_type": "markdown",
      "metadata": {
        "id": "FvRIbD61SNcW"
      },
      "source": [
        "# See correlation"
      ]
    },
    {
      "cell_type": "code",
      "execution_count": 90,
      "metadata": {
        "id": "4_asUsJSSNcW",
        "outputId": "8d7d5ab3-0c0c-41fa-b432-57bdc8840362",
        "colab": {
          "base_uri": "https://localhost:8080/"
        }
      },
      "outputs": [
        {
          "output_type": "execute_result",
          "data": {
            "text/plain": [
              "work_type_children        -0.083888\n",
              "work_type_Never_worked    -0.014885\n",
              "work_type_Govt_job         0.002660\n",
              "id                         0.006430\n",
              "overweight                 0.007039\n",
              "gender                     0.009081\n",
              "work_type_Private          0.011927\n",
              "Residence_type             0.015415\n",
              "smoking_status             0.030721\n",
              "bmi                        0.036075\n",
              "work_type_Self-employed    0.062150\n",
              "ever_married               0.108299\n",
              "hypertension               0.127891\n",
              "avg_glucose_level          0.131991\n",
              "heart_disease              0.134905\n",
              "age_stroke                 0.233478\n",
              "age                        0.245239\n",
              "stroke                     1.000000\n",
              "Name: stroke, dtype: float64"
            ]
          },
          "metadata": {},
          "execution_count": 90
        }
      ],
      "source": [
        "data.corr().stroke.sort_values()"
      ]
    },
    {
      "cell_type": "code",
      "execution_count": 91,
      "metadata": {
        "id": "8WHLCPbeSNcX",
        "outputId": "4d001506-6df9-4f7e-c486-b51e84776d68",
        "colab": {
          "base_uri": "https://localhost:8080/",
          "height": 331
        }
      },
      "outputs": [
        {
          "output_type": "display_data",
          "data": {
            "text/plain": [
              "<Figure size 432x288 with 1 Axes>"
            ],
            "image/png": "[encoded data removed]"
          },
          "metadata": {
            "needs_background": "light"
          }
        },
        {
          "output_type": "execute_result",
          "data": {
            "text/plain": [
              "0.0    4860\n",
              "1.0     249\n",
              "Name: stroke, dtype: int64"
            ]
          },
          "metadata": {},
          "execution_count": 91
        }
      ],
      "source": [
        "sns.countplot(x= data.stroke)\n",
        "plt.show()\n",
        "data.stroke.value_counts()"
      ]
    },
    {
      "cell_type": "code",
      "execution_count": 92,
      "metadata": {
        "id": "60GPqfRWSNcX"
      },
      "outputs": [],
      "source": [
        "# data_positive =data.loc[(data.stroke == 1)]\n",
        "# data = pd.concat([data, data_positive, data_positive, data_positive])"
      ]
    },
    {
      "cell_type": "markdown",
      "metadata": {
        "id": "X5NNuUZ-SNcX"
      },
      "source": [
        "# Split data "
      ]
    },
    {
      "cell_type": "code",
      "execution_count": 93,
      "metadata": {
        "id": "23JWaQ7uSNcX"
      },
      "outputs": [],
      "source": [
        "features = ['age', 'age_stroke', 'heart_disease', 'avg_glucose_level', 'ever_married', 'hypertension']\n",
        "X = data[features]\n",
        "y = data.stroke"
      ]
    },
    {
      "cell_type": "code",
      "execution_count": 94,
      "metadata": {
        "id": "opnNV9sHSNcX"
      },
      "outputs": [],
      "source": [
        "from sklearn.model_selection import train_test_split\n",
        "\n",
        "X_train, X_test, y_train, y_test = train_test_split(X, y, test_size=0.2, stratify=y, random_state=0)"
      ]
    },
    {
      "cell_type": "markdown",
      "metadata": {
        "id": "1WcgKI_JSNcX"
      },
      "source": [
        "# RandomForestClassifier"
      ]
    },
    {
      "cell_type": "code",
      "execution_count": 95,
      "metadata": {
        "id": "_NGb7zKpSNcX"
      },
      "outputs": [],
      "source": [
        "from sklearn.ensemble import RandomForestClassifier\n",
        "\n",
        "rfc = RandomForestClassifier(n_jobs=-1, random_state=0)\n",
        "rfc.fit(X_train, y_train)\n",
        "y_predicted_rfc = rfc.predict(X_test)"
      ]
    },
    {
      "cell_type": "code",
      "execution_count": 96,
      "metadata": {
        "id": "iIptIkFxSNcY"
      },
      "outputs": [],
      "source": [
        "from sklearn.metrics import confusion_matrix\n",
        "\n",
        "cf_rfc = confusion_matrix(y_test, y_predicted_rfc, labels=[1,0])"
      ]
    },
    {
      "cell_type": "code",
      "execution_count": 97,
      "metadata": {
        "id": "AWc7p0qGSNcY",
        "outputId": "dac0fafb-6e64-41f1-96a2-7e4c03470e5d",
        "colab": {
          "base_uri": "https://localhost:8080/",
          "height": 291
        }
      },
      "outputs": [
        {
          "output_type": "display_data",
          "data": {
            "text/plain": [
              "<Figure size 432x288 with 2 Axes>"
            ],
            "image/png": "[encoded data removed]"
          },
          "metadata": {
            "needs_background": "light"
          }
        }
      ],
      "source": [
        "import seaborn as sns\n",
        "\n",
        "ax = sns.heatmap(cf_rfc, annot=True, cmap='Blues')\n",
        "\n",
        "ax.set_xlabel('\\nPredicted Values')\n",
        "ax.set_ylabel('Actual Values ');\n",
        "\n",
        "ax.xaxis.set_ticklabels(['Positive','Negative'])\n",
        "ax.yaxis.set_ticklabels(['Positive','Negative'])\n",
        "\n",
        "plt.show()"
      ]
    },
    {
      "cell_type": "code",
      "execution_count": 98,
      "metadata": {
        "id": "6cNzKY5JSNcY",
        "colab": {
          "base_uri": "https://localhost:8080/"
        },
        "outputId": "98b53394-3246-4f9d-c7dc-68d16b7265e4"
      },
      "outputs": [
        {
          "output_type": "stream",
          "name": "stdout",
          "text": [
            "Accuracy score: 0.9412760023103189\n",
            "Precision score: 0.19851503759398498\n",
            "Recall score: 0.07038461538461538\n"
          ]
        }
      ],
      "source": [
        "from sklearn.model_selection import cross_val_score\n",
        "\n",
        "scores_accuracy = cross_val_score(rfc, X_train, y_train, cv=5, scoring=\"accuracy\")\n",
        "scores_precision = cross_val_score(rfc, X_train, y_train, cv=5, scoring=\"precision\")\n",
        "scores_recall = cross_val_score(rfc, X_train, y_train, cv=5, scoring=\"recall\")\n",
        "print(f\"Accuracy score: {scores_accuracy.mean()}\")\n",
        "print(f\"Precision score: {scores_precision.mean()}\")\n",
        "print(f\"Recall score: {scores_recall.mean()}\")"
      ]
    },
    {
      "cell_type": "code",
      "source": [
        "from sklearn.metrics import classification_report\n",
        "\n",
        "print(classification_report(y_test, y_predicted_rfc))"
      ],
      "metadata": {
        "id": "0BmCK7pjwQNG",
        "outputId": "c27c5d72-c8cb-44ab-a3f0-6dd170b5761d",
        "colab": {
          "base_uri": "https://localhost:8080/"
        }
      },
      "execution_count": 99,
      "outputs": [
        {
          "output_type": "stream",
          "name": "stdout",
          "text": [
            "              precision    recall  f1-score   support\n",
            "\n",
            "         0.0       0.95      0.98      0.97       972\n",
            "         1.0       0.13      0.06      0.08        50\n",
            "\n",
            "    accuracy                           0.93      1022\n",
            "   macro avg       0.54      0.52      0.52      1022\n",
            "weighted avg       0.91      0.93      0.92      1022\n",
            "\n"
          ]
        }
      ]
    },
    {
      "cell_type": "code",
      "source": [
        "from sklearn.model_selection import cross_val_predict\n",
        "y_scores = cross_val_predict(rfc, X_train, y_train, cv=5)"
      ],
      "metadata": {
        "id": "B91a2sCWvQuB"
      },
      "execution_count": 100,
      "outputs": []
    },
    {
      "cell_type": "code",
      "execution_count": 101,
      "metadata": {
        "id": "65YhdC5ISNcY"
      },
      "outputs": [],
      "source": [
        "def plot_roc_curve(fpr, tpr, label=None):\n",
        "  plt.plot(fpr, tpr, linewidth=2, label=label)\n",
        "  plt.plot([0, 1], [0, 1], 'k--')\n",
        "  plt.axis([0, 1, 0, 1])\n",
        "  plt.xlabel('False Positive Rate', fontsize=16)\n",
        "  plt.ylabel('True Positive Rate', fontsize=16)"
      ]
    },
    {
      "cell_type": "code",
      "execution_count": 102,
      "metadata": {
        "id": "uwBgL2ZrSNcY",
        "outputId": "d5688bb6-85fe-4b81-9416-efcf60c6fff4",
        "colab": {
          "base_uri": "https://localhost:8080/",
          "height": 397
        }
      },
      "outputs": [
        {
          "output_type": "display_data",
          "data": {
            "text/plain": [
              "<Figure size 576x432 with 1 Axes>"
            ],
            "image/png": "[encoded data removed]"
          },
          "metadata": {
            "needs_background": "light"
          }
        }
      ],
      "source": [
        "from sklearn.metrics import roc_curve\n",
        "\n",
        "fpr, tpr, thresholds = roc_curve(y_train, y_scores)\n",
        "\n",
        "plt.figure(figsize=(8, 6))\n",
        "plot_roc_curve(fpr, tpr)\n",
        "plt.show()"
      ]
    },
    {
      "cell_type": "code",
      "execution_count": 103,
      "metadata": {
        "id": "Oh8-v9HDSNcY"
      },
      "outputs": [],
      "source": [
        "def display_scores(scores):\n",
        "    print(\"Mean:\", scores.mean())\n",
        "    print(\"Standard deviation:\", scores.std())\n",
        "    return scores.mean(), scores.std()"
      ]
    },
    {
      "cell_type": "code",
      "execution_count": 104,
      "metadata": {
        "id": "5_8RhCbpSNcY",
        "outputId": "92ca2d99-103a-434e-e3c1-cca4492a811a",
        "colab": {
          "base_uri": "https://localhost:8080/"
        }
      },
      "outputs": [
        {
          "output_type": "stream",
          "name": "stdout",
          "text": [
            "Mean: 0.016882799119158305\n",
            "Standard deviation: 0.12883233372511907\n"
          ]
        },
        {
          "output_type": "execute_result",
          "data": {
            "text/plain": [
              "(0.016882799119158305, 0.12883233372511907)"
            ]
          },
          "metadata": {},
          "execution_count": 104
        }
      ],
      "source": [
        "display_scores(y_scores)"
      ]
    },
    {
      "cell_type": "markdown",
      "metadata": {
        "id": "VgDfOR4lSNcY"
      },
      "source": [
        "# XGBoost"
      ]
    },
    {
      "cell_type": "code",
      "execution_count": 72,
      "metadata": {
        "id": "lQbRshlESNcZ"
      },
      "outputs": [],
      "source": [
        "from xgboost import XGBClassifier\n",
        "\n",
        "xgb = XGBClassifier()\n",
        "xgb.fit(X_train, y_train)\n",
        "y_predicted = xgb.predict(X_test)\n",
        "y_scores = cross_val_predict(xgb, X_train, y_train, cv=5)\n"
      ]
    },
    {
      "cell_type": "code",
      "execution_count": 73,
      "metadata": {
        "id": "MYo9XBrySNcZ",
        "outputId": "386ec4c2-f7d9-4d3d-c7cb-3eeb96c4c42d",
        "colab": {
          "base_uri": "https://localhost:8080/",
          "height": 397
        }
      },
      "outputs": [
        {
          "output_type": "display_data",
          "data": {
            "text/plain": [
              "<Figure size 576x432 with 1 Axes>"
            ],
            "image/png": "[encoded data removed]"
          },
          "metadata": {
            "needs_background": "light"
          }
        }
      ],
      "source": [
        "fpr, tpr, thresholds = roc_curve(y_train, y_scores)\n",
        "\n",
        "plt.figure(figsize=(8, 6))\n",
        "plot_roc_curve(fpr, tpr)\n",
        "plt.show()"
      ]
    },
    {
      "cell_type": "code",
      "execution_count": null,
      "metadata": {
        "id": "YAYFIdxCSNcZ",
        "outputId": "c32507b9-8fb4-4467-92f7-f259805b76f6"
      },
      "outputs": [
        {
          "name": "stdout",
          "output_type": "stream",
          "text": [
            "Mean: 0.012720156555772993\n",
            "Standard deviation: 0.11206406280770666\n"
          ]
        },
        {
          "data": {
            "text/plain": [
              "(0.012720156555772993, 0.11206406280770666)"
            ]
          },
          "execution_count": 35,
          "metadata": {},
          "output_type": "execute_result"
        }
      ],
      "source": [
        "display_scores(y_scores)"
      ]
    },
    {
      "cell_type": "markdown",
      "metadata": {
        "id": "7-e5PmoUSNcZ"
      },
      "source": [
        "# SVC"
      ]
    },
    {
      "cell_type": "code",
      "execution_count": null,
      "metadata": {
        "id": "d8yTkbUnSNcZ"
      },
      "outputs": [],
      "source": [
        "from sklearn.preprocessing import StandardScaler\n",
        "\n",
        "scaler = StandardScaler()\n",
        "X_train_scaler = scaler.fit_transform(X_train)\n",
        "X_test_scaler = scaler.transform(X_test)"
      ]
    },
    {
      "cell_type": "code",
      "execution_count": null,
      "metadata": {
        "id": "7tDzU5V6SNcZ",
        "outputId": "0c246560-a5fc-4ecd-a3cc-59b317f64324"
      },
      "outputs": [
        {
          "data": {
            "image/png": "[encoded data removed]",
            "text/plain": [
              "<Figure size 432x288 with 2 Axes>"
            ]
          },
          "metadata": {
            "needs_background": "light"
          },
          "output_type": "display_data"
        }
      ],
      "source": [
        "from sklearn.svm import SVC\n",
        "\n",
        "svc = SVC(random_state=0)\n",
        "svc.fit(X_train_scaler, y_train)\n",
        "y_predicted = svc.predict(X_test_scaler)\n",
        "cf_svc = confusion_matrix(y_test, y_predicted)\n",
        "\n",
        "ax = sns.heatmap(cf_svc, annot=True, cmap='Blues')\n",
        "ax.set_xlabel('\\nPredicted Values')\n",
        "ax.set_ylabel('Actual Values ');\n",
        "ax.xaxis.set_ticklabels(['False','True'])\n",
        "ax.yaxis.set_ticklabels(['False','True'])\n",
        "\n",
        "plt.show()"
      ]
    },
    {
      "cell_type": "code",
      "execution_count": null,
      "metadata": {
        "id": "ev1IC_NBSNcZ"
      },
      "outputs": [],
      "source": [
        "y_scores = cross_val_predict(svc, X_train_scaler, y_train, cv=5)"
      ]
    },
    {
      "cell_type": "code",
      "execution_count": null,
      "metadata": {
        "id": "41LqCaI4SNcZ",
        "outputId": "561f9976-d36c-454b-bf27-5677df7fc02c"
      },
      "outputs": [
        {
          "data": {
            "image/png": "[encoded data removed]",
            "text/plain": [
              "<Figure size 576x432 with 1 Axes>"
            ]
          },
          "metadata": {
            "needs_background": "light"
          },
          "output_type": "display_data"
        }
      ],
      "source": [
        "fpr, tpr, thresholds = roc_curve(y_train, y_scores)\n",
        "\n",
        "plt.figure(figsize=(8, 6))\n",
        "plot_roc_curve(fpr, tpr)\n",
        "plt.show()"
      ]
    },
    {
      "cell_type": "code",
      "execution_count": null,
      "metadata": {
        "id": "rDE6YZ5vSNcZ",
        "outputId": "6c132876-99ab-4c42-9e86-eda48fa453f9"
      },
      "outputs": [
        {
          "name": "stdout",
          "output_type": "stream",
          "text": [
            "Mean: 0.0004892367906066536\n",
            "Standard deviation: 0.02211328645790513\n"
          ]
        },
        {
          "data": {
            "text/plain": [
              "(0.0004892367906066536, 0.02211328645790513)"
            ]
          },
          "execution_count": 40,
          "metadata": {},
          "output_type": "execute_result"
        }
      ],
      "source": [
        "display_scores(y_scores)"
      ]
    },
    {
      "cell_type": "markdown",
      "metadata": {
        "id": "M0YhrC_ESNcZ"
      },
      "source": [
        "# Random search"
      ]
    },
    {
      "cell_type": "markdown",
      "metadata": {
        "id": "MvkS9gZjSNca"
      },
      "source": [
        "RandomForestClassifier"
      ]
    },
    {
      "cell_type": "code",
      "execution_count": null,
      "metadata": {
        "id": "hLO9SC5LSNca",
        "outputId": "f4964716-cf46-40f3-96a5-f16a7a03712e"
      },
      "outputs": [
        {
          "data": {
            "text/plain": [
              "{'n_estimators': 550, 'max_depth': 15}"
            ]
          },
          "execution_count": 41,
          "metadata": {},
          "output_type": "execute_result"
        }
      ],
      "source": [
        "from sklearn.model_selection import RandomizedSearchCV\n",
        "\n",
        "rfc = RandomForestClassifier(n_jobs=-1, random_state=0)\n",
        "\n",
        "distributions = dict(n_estimators=[500, 550, 600], max_depth=[15, 20, 23, 30])\n",
        "\n",
        "rscv_rfc = RandomizedSearchCV(rfc, distributions, random_state=0)\n",
        "\n",
        "search_rfc = rscv_rfc.fit(X_train, y_train)\n",
        "search_rfc.best_params_"
      ]
    },
    {
      "cell_type": "code",
      "execution_count": null,
      "metadata": {
        "id": "9LbPCSOwSNca",
        "outputId": "abe630c9-60e4-4b20-ec54-48af8905ddea"
      },
      "outputs": [
        {
          "name": "stdout",
          "output_type": "stream",
          "text": [
            "Mean: 0.01908023483365949\n",
            "Standard deviation: 0.13680708853108411\n"
          ]
        }
      ],
      "source": [
        "rfc_v2 = RandomForestClassifier(n_jobs=-1, random_state=0, n_estimators=550, max_depth=23)\n",
        "rfc_v2.fit(X_train, y_train)\n",
        "y_predicted_rfc_v2 = rfc_v2.predict(X_test)\n",
        "y_scores_v2_rfc = cross_val_predict(rfc_v2, X_train, y_train, cv=5)\n",
        "rfc_mean, rfc_std = display_scores(y_scores_v2_rfc)"
      ]
    },
    {
      "cell_type": "markdown",
      "metadata": {
        "id": "KGdrlWYuSNca"
      },
      "source": [
        "SVC"
      ]
    },
    {
      "cell_type": "code",
      "execution_count": null,
      "metadata": {
        "id": "q3eJ_EEZSNca",
        "outputId": "962918d8-46a2-4948-ab36-a8519742a585"
      },
      "outputs": [
        {
          "data": {
            "text/plain": [
              "{'kernel': 'rbf', 'C': 0.1}"
            ]
          },
          "execution_count": 43,
          "metadata": {},
          "output_type": "execute_result"
        }
      ],
      "source": [
        "svc = SVC(random_state=0)\n",
        "\n",
        "distributions = dict(C=[0.1, 0.5, 0.8, 1.0, 1.2, 1.5], kernel=['poly', 'rbf'])\n",
        "\n",
        "rscv_svc = RandomizedSearchCV(svc, distributions, random_state=0)\n",
        "\n",
        "search_svc = rscv_svc.fit(X_train_scaler, y_train)\n",
        "search_svc.best_params_"
      ]
    },
    {
      "cell_type": "code",
      "execution_count": null,
      "metadata": {
        "id": "5m5UQyF6SNca",
        "outputId": "bc916761-1e6a-457f-fe96-8a1bdab59b23"
      },
      "outputs": [
        {
          "name": "stdout",
          "output_type": "stream",
          "text": [
            "Mean: 0.0\n",
            "Standard deviation: 0.0\n"
          ]
        }
      ],
      "source": [
        "svc_v2 = SVC(random_state=0, kernel='rbf', C=0.1)\n",
        "svc_v2.fit(X_train_scaler, y_train)\n",
        "y_predicted_svc_v2 = svc_v2.predict(X_test_scaler)\n",
        "y_scores_v2_svc = cross_val_predict(svc_v2, X_train_scaler, y_train, cv=5)\n",
        "svc_mean, svc_std = display_scores(y_scores_v2_svc)"
      ]
    },
    {
      "cell_type": "markdown",
      "metadata": {
        "id": "v8jl1sqfSNca"
      },
      "source": [
        "XGBoost"
      ]
    },
    {
      "cell_type": "code",
      "execution_count": null,
      "metadata": {
        "id": "zMwy203dSNca",
        "outputId": "bd1b06fc-8774-43bd-e561-4de1e5e8ac19"
      },
      "outputs": [
        {
          "name": "stdout",
          "output_type": "stream",
          "text": [
            "Fitting 5 folds for each of 5 candidates, totalling 25 fits\n"
          ]
        },
        {
          "data": {
            "text/plain": [
              "{'min_child_weight': 5,\n",
              " 'max_depth': 3,\n",
              " 'learning_rate': 0.15,\n",
              " 'gamma': 0.2,\n",
              " 'colsample_bytree': 0.4}"
            ]
          },
          "execution_count": 45,
          "metadata": {},
          "output_type": "execute_result"
        }
      ],
      "source": [
        "xgb = XGBClassifier()\n",
        "distributions = {\n",
        " 'learning_rate' : [0.05,0.10,0.15,0.20,0.25,0.30],\n",
        " 'max_depth' : [ 3, 4, 5, 6, 8, 10, 12, 15],\n",
        " 'min_child_weight' : [ 1, 3, 5, 7 ],\n",
        " 'gamma': [ 0.0, 0.1, 0.2 , 0.3, 0.4 ],\n",
        " 'colsample_bytree' : [ 0.3, 0.4, 0.5 , 0.7 ]\n",
        "}\n",
        "rscv_xgb =RandomizedSearchCV(xgb, param_distributions=distributions, n_iter=5, scoring='roc_auc', n_jobs=-1, cv=5, verbose=3)\n",
        "search_xgb = rscv_xgb.fit(X_train, y_train)\n",
        "search_xgb.best_params_"
      ]
    },
    {
      "cell_type": "code",
      "execution_count": null,
      "metadata": {
        "id": "r8MsVEyySNca",
        "outputId": "6985a333-34aa-4a6e-8e7f-df47e5fe367f"
      },
      "outputs": [
        {
          "name": "stdout",
          "output_type": "stream",
          "text": [
            "Mean: 0.0002446183953033268\n",
            "Standard deviation: 0.01563836811000451\n"
          ]
        }
      ],
      "source": [
        "xgb_v2 = XGBClassifier(min_child_weight=5, max_depth=3, learning_rate=0.15, gamma=0.2, colsample_bytree=0.4)\n",
        "xgb_v2.fit(X_train, y_train)\n",
        "y_predicted_xgb_v2 = xgb_v2.predict(X_test)\n",
        "y_scores_v2_xgb = cross_val_predict(xgb_v2, X_train, y_train, cv=5)\n",
        "xgb_mean, xgb_std = display_scores(y_scores_v2_xgb)"
      ]
    },
    {
      "cell_type": "markdown",
      "metadata": {
        "id": "AyHxHgXjSNcb"
      },
      "source": [
        "# Results"
      ]
    },
    {
      "cell_type": "code",
      "execution_count": null,
      "metadata": {
        "id": "iSsnYV1WSNcb",
        "outputId": "80b6f3c9-401a-44e5-f3ef-4bc64a561cf8"
      },
      "outputs": [
        {
          "data": {
            "image/png": "[encoded data removed]",
            "text/plain": [
              "<Figure size 288x360 with 1 Axes>"
            ]
          },
          "metadata": {
            "needs_background": "light"
          },
          "output_type": "display_data"
        }
      ],
      "source": [
        "models = ['RandomForestClassifier', 'XGBClassifier', 'SVC']\n",
        "mean = [rfc_mean, xgb_mean, svc_mean]\n",
        "std = [rfc_std, xgb_std, svc_std]\n",
        "\n",
        "plt.figure(figsize=(4,5))\n",
        "for i in range(3):\n",
        "    plt.errorbar(i, mean[i], xerr=0, yerr=std[i], fmt='o', linewidth=5)\n",
        "plt.xticks([0,1,2], models)\n",
        "plt.title('Results')\n",
        "plt.ylim(0, 0.2)\n",
        "plt.grid(b=True, which='major', linestyle='-')\n",
        "plt.minorticks_on()\n",
        "plt.grid(b=True, which='minor', alpha=0.2, linestyle='-')\n",
        "plt.show()"
      ]
    }
  ],
  "metadata": {
    "interpreter": {
      "hash": "9fd58ae4538fcf96ce8fe36033807b95662dd668c918ab9851d922f5679b6980"
    },
    "kernelspec": {
      "display_name": "Python 3.9.7 ('base')",
      "language": "python",
      "name": "python3"
    },
    "language_info": {
      "codemirror_mode": {
        "name": "ipython",
        "version": 3
      },
      "file_extension": ".py",
      "mimetype": "text/x-python",
      "name": "python",
      "nbconvert_exporter": "python",
      "pygments_lexer": "ipython3",
      "version": "3.9.7"
    },
    "orig_nbformat": 4,
    "colab": {
      "name": "who_notebook.ipynb",
      "provenance": [],
      "include_colab_link": true
    }
  },
  "nbformat": 4,
  "nbformat_minor": 0
}